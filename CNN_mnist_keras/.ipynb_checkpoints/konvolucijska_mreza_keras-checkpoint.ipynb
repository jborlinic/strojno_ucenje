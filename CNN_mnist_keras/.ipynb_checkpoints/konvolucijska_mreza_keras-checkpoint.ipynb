{
 "cells": [
  {
   "cell_type": "markdown",
   "metadata": {},
   "source": [
    "# Primer konvolucijske mreže (CNN) \n",
    "Z uporabo knjižnice Keras drastično poenostavimo osnovno testiranje različnih modelov. Omogoča nam enostavno implementacijo raznoraznih modelov in tudi kasnejše fine nastavitve obstoječega modela.\n",
    "\n",
    "Ta primer želi klasificirati nabor podatkov [MNIST](http://yann.lecun.com/exdb/mnist/)."
   ]
  },
  {
   "cell_type": "code",
   "execution_count": 1,
   "metadata": {},
   "outputs": [
    {
     "name": "stderr",
     "output_type": "stream",
     "text": [
      "Using TensorFlow backend.\n"
     ]
    }
   ],
   "source": [
    "import keras\n",
    "import numpy as np \n",
    "\n",
    "from keras.layers import Conv2D, MaxPooling2D, Dense, Reshape, Flatten, Activation, Dropout\n",
    "from keras.callbacks import TensorBoard\n",
    "from keras.optimizers import Adam\n",
    "\n",
    "(x_train, y_train), (x_test, y_test) = keras.datasets.mnist.load_data()\n",
    "\n",
    "def one_hot(obj, n_classes):\n",
    "    obj_len = len(obj)\n",
    "    a = np.array(obj)\n",
    "    b = np.zeros((obj_len, n_classes))\n",
    "    b[np.arange(obj_len), a] = 1\n",
    "\n",
    "    return b"
   ]
  },
  {
   "cell_type": "code",
   "execution_count": 2,
   "metadata": {
    "collapsed": true
   },
   "outputs": [],
   "source": [
    "\"\"\"\n",
    "Definicija modela, vsak sloj posebej.\n",
    "Sequential tip modela predstavlja model, \n",
    "ki se izvaja linearno po svojih slojih.\n",
    "\"\"\"\n",
    "model = keras.models.Sequential()\n",
    "### Prvi del modela - KONVOLUCIJA\n",
    "# osnovno preoblikovanje nabora podatkov\n",
    "model.add(Reshape((28,28,1), input_shape=(28,28)))\n",
    "# prvi konvolucijski sloj s 32 jedri\n",
    "model.add(Conv2D(32, kernel_size=5, strides=1, padding='same', activation='relu'))\n",
    "# prvo maksimalno združevanje\n",
    "model.add(MaxPooling2D(pool_size=2, strides=2))\n",
    "# drugi konvolucijski sloj s 64 jedri\n",
    "model.add(Conv2D(64, kernel_size=5, strides=1, padding='same', activation='relu'))\n",
    "# drugo maksimalno združevanje\n",
    "model.add(MaxPooling2D(pool_size=2, strides=2))\n",
    "# preoblikovanje matrike iz 4-D v 2-D\n",
    "model.add(Flatten())\n",
    "\n",
    "### Drugi del modela - KLASIFIKATOR\n",
    "# osnovni (vmesni) polno-povezan sloj s relu aktivacijo\n",
    "model.add(Dense(units=1024, activation='relu'))\n",
    "# osipni sloj p = 0.5\n",
    "model.add(Dropout(0.5))\n",
    "# zadnji polno-povezan sloj s softmax aktivacijo \n",
    "model.add(Dense(units=10, activation='softmax'))"
   ]
  },
  {
   "cell_type": "code",
   "execution_count": 3,
   "metadata": {},
   "outputs": [
    {
     "name": "stdout",
     "output_type": "stream",
     "text": [
      "Train on 60000 samples, validate on 10000 samples\n",
      "INFO:tensorflow:Summary name conv2d_1/kernel:0 is illegal; using conv2d_1/kernel_0 instead.\n",
      "INFO:tensorflow:Summary name conv2d_1/bias:0 is illegal; using conv2d_1/bias_0 instead.\n",
      "INFO:tensorflow:Summary name conv2d_2/kernel:0 is illegal; using conv2d_2/kernel_0 instead.\n",
      "INFO:tensorflow:Summary name conv2d_2/bias:0 is illegal; using conv2d_2/bias_0 instead.\n",
      "INFO:tensorflow:Summary name dense_1/kernel:0 is illegal; using dense_1/kernel_0 instead.\n",
      "INFO:tensorflow:Summary name dense_1/bias:0 is illegal; using dense_1/bias_0 instead.\n",
      "INFO:tensorflow:Summary name dense_2/kernel:0 is illegal; using dense_2/kernel_0 instead.\n",
      "INFO:tensorflow:Summary name dense_2/bias:0 is illegal; using dense_2/bias_0 instead.\n",
      "Epoch 1/10\n",
      "60000/60000 [==============================] - 83s - loss: 1.9255 - acc: 0.8417 - val_loss: 0.0519 - val_acc: 0.9839\n",
      "Epoch 2/10\n",
      "60000/60000 [==============================] - 29s - loss: 0.0678 - acc: 0.9796 - val_loss: 0.0402 - val_acc: 0.9881\n",
      "Epoch 3/10\n",
      "60000/60000 [==============================] - 28s - loss: 0.0444 - acc: 0.9870 - val_loss: 0.0369 - val_acc: 0.9880\n",
      "Epoch 4/10\n",
      "60000/60000 [==============================] - 28s - loss: 0.0301 - acc: 0.9911 - val_loss: 0.0294 - val_acc: 0.9912\n",
      "Epoch 5/10\n",
      "60000/60000 [==============================] - 28s - loss: 0.0239 - acc: 0.9925 - val_loss: 0.0363 - val_acc: 0.9892\n",
      "Epoch 6/10\n",
      "60000/60000 [==============================] - 93s - loss: 0.0173 - acc: 0.9946 - val_loss: 0.0357 - val_acc: 0.9902\n",
      "Epoch 7/10\n",
      "60000/60000 [==============================] - 21s - loss: 0.0159 - acc: 0.9949 - val_loss: 0.0325 - val_acc: 0.9915\n",
      "Epoch 8/10\n",
      "60000/60000 [==============================] - 21s - loss: 0.0114 - acc: 0.9967 - val_loss: 0.0359 - val_acc: 0.9916\n",
      "Epoch 9/10\n",
      "60000/60000 [==============================] - 21s - loss: 0.0088 - acc: 0.9972 - val_loss: 0.0423 - val_acc: 0.9909\n",
      "Epoch 10/10\n",
      "60000/60000 [==============================] - 21s - loss: 0.0079 - acc: 0.9977 - val_loss: 0.0368 - val_acc: 0.9920\n"
     ]
    },
    {
     "data": {
      "text/plain": [
       "<keras.callbacks.History at 0x1fe5714b128>"
      ]
     },
     "execution_count": 3,
     "metadata": {},
     "output_type": "execute_result"
    }
   ],
   "source": [
    "# Inicializacija modela in nastavitev:\n",
    "#     - kriterijske funkcije,\n",
    "#     - optimizatorja,\n",
    "#     - metrike.\n",
    "model.compile(loss=\"categorical_crossentropy\",\n",
    "              optimizer=\"Adadelta\",\n",
    "              metrics=['accuracy'])\n",
    "\n",
    "# Pretvorba razrednih vektorjev\n",
    "y_train = one_hot(y_train, 10)\n",
    "y_test = one_hot(y_test, 10)\n",
    "\n",
    "# Učenje modela, 10 epik (št._epik x št._vseh_podatkov / batch_size)\n",
    "model.fit(x_train,\n",
    "          y_train, \n",
    "          epochs=10, \n",
    "          batch_size=100, \n",
    "          verbose=1, \n",
    "          validation_data=(x_test, y_test),\n",
    "          callbacks=[TensorBoard(log_dir='log/', histogram_freq=5, write_graph=True)]\n",
    ")"
   ]
  },
  {
   "cell_type": "code",
   "execution_count": null,
   "metadata": {
    "collapsed": true
   },
   "outputs": [],
   "source": []
  }
 ],
 "metadata": {
  "anaconda-cloud": {},
  "kernelspec": {
   "display_name": "Python 3",
   "language": "python",
   "name": "python3"
  },
  "language_info": {
   "codemirror_mode": {
    "name": "ipython",
    "version": 3
   },
   "file_extension": ".py",
   "mimetype": "text/x-python",
   "name": "python",
   "nbconvert_exporter": "python",
   "pygments_lexer": "ipython3",
   "version": "3.5.3"
  }
 },
 "nbformat": 4,
 "nbformat_minor": 1
}
