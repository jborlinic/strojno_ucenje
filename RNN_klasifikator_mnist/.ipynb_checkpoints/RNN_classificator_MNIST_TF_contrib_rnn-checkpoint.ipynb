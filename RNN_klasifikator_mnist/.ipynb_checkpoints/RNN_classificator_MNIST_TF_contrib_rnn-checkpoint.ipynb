{
 "cells": [
  {
   "cell_type": "markdown",
   "metadata": {
    "collapsed": true
   },
   "source": [
    "### Osnovni RNN model za klasifikacijo slik z implementacijo RNN-modela iz knjižnice Tensorflow.contrib.rnn\n",
    "Druga implementacija modela ponavljajoče nevronske mreže za klasifikacijo ročno zapisanih števil. Tokrat po drugem [tutorialu](https://pythonprogramming.net/rnn-tensorflow-python-machine-learning-tutorial/?completed=/recurrent-neural-network-rnn-lstm-machine-learning-tutorial/). Gre za preprostejšo kodo z uporabo že implementiranega modela, ki ga najdemo v knjižnici tensorflow.contrib.rnn.\n",
    "\n",
    "__Opomba:__ Če se ta model zaganja v jupyter notebooku, je po vsakem zagonu programa potrebno ponovno naložiti kernel. Težava je v implementaciji RNN-celice in njenih uteži.  \n",
    "Ta težava se ne pojavi ob zagonu programa izven jupyter notebooka."
   ]
  },
  {
   "cell_type": "code",
   "execution_count": 1,
   "metadata": {
    "collapsed": false
   },
   "outputs": [
    {
     "name": "stdout",
     "output_type": "stream",
     "text": [
      "Extracting ../.datasets/mnist/train-images-idx3-ubyte.gz\n",
      "Extracting ../.datasets/mnist/train-labels-idx1-ubyte.gz\n",
      "Extracting ../.datasets/mnist/t10k-images-idx3-ubyte.gz\n",
      "Extracting ../.datasets/mnist/t10k-labels-idx1-ubyte.gz\n",
      "Epoch 0 completed out of 10 loss: 189.467611138\n",
      "Epoch 1 completed out of 10 loss: 53.9761687387\n",
      "Epoch 2 completed out of 10 loss: 36.8233460402\n",
      "Epoch 3 completed out of 10 loss: 28.3558302084\n",
      "Epoch 4 completed out of 10 loss: 22.6149060365\n",
      "Epoch 5 completed out of 10 loss: 20.4138097726\n",
      "Epoch 6 completed out of 10 loss: 15.8014660076\n",
      "Epoch 7 completed out of 10 loss: 14.0971603648\n",
      "Epoch 8 completed out of 10 loss: 12.6619624599\n",
      "Epoch 9 completed out of 10 loss: 10.601148039\n",
      "Accuracy: 0.9842\n"
     ]
    }
   ],
   "source": [
    "import tensorflow as tf\n",
    "from tensorflow.examples.tutorials.mnist import input_data\n",
    "from tensorflow.contrib import rnn \n",
    "\n",
    "# loading the dataset\n",
    "mnist = input_data.read_data_sets(\"../.datasets/mnist/\", one_hot = True)\n",
    "\n",
    "# basic hyperparameters\n",
    "hm_epochs = 10\n",
    "n_classes = 10\n",
    "batch_size = 128\n",
    "\n",
    "chunk_size = 28\n",
    "n_chunks = 28\n",
    "rnn_size = 256\n",
    "\n",
    "# input placeholders\n",
    "x = tf.placeholder('float', [None, n_chunks, chunk_size])\n",
    "y = tf.placeholder('float')\n",
    "\n",
    "\n",
    "def recurrent_neural_network(x):\n",
    "    layer = {'weights':tf.Variable(tf.random_normal([rnn_size, n_classes])),\n",
    "             'biases':tf.Variable(tf.random_normal([n_classes]))}\n",
    "    \n",
    "    # data reshaping necesairy for the lstm cell input\n",
    "    x = tf.transpose(x, [1,0,2])\n",
    "    x = tf.reshape(x, [-1, chunk_size])\n",
    "    x = tf.split(x, n_chunks, 0)\n",
    "    \n",
    "    # lstm cell and the recurrent layer\n",
    "    lstm_cell = rnn.BasicLSTMCell(rnn_size)\n",
    "    outputs, states = rnn.static_rnn(lstm_cell, x, dtype=tf.float32)\n",
    "    \n",
    "    output = tf.matmul(outputs[-1], layer['weights']) + layer['biases']\n",
    "\n",
    "    return output\n",
    "\n",
    "\n",
    "def train_neural_network(x):\n",
    "    # the function that actualy trains the network\n",
    "\n",
    "    prediction = recurrent_neural_network(x)\n",
    "    \n",
    "    cost = tf.reduce_mean(\n",
    "        tf.nn.softmax_cross_entropy_with_logits(logits=prediction, labels=y))\n",
    "    \n",
    "    optimizer = tf.train.AdamOptimizer().minimize(cost)\n",
    "    \n",
    "    with tf.Session() as sess:\n",
    "        sess.run(tf.global_variables_initializer())\n",
    "\n",
    "        for epoch in range(hm_epochs):\n",
    "            epoch_loss = 0\n",
    "            for _ in range(int(mnist.train.num_examples/batch_size)):\n",
    "                epoch_x, epoch_y = mnist.train.next_batch(batch_size)\n",
    "                epoch_x = epoch_x.reshape((batch_size, n_chunks, chunk_size))\n",
    "                _, c = sess.run([optimizer, cost], feed_dict={x: epoch_x, y: epoch_y})\n",
    "                epoch_loss += c\n",
    "\n",
    "            print('Epoch', epoch, 'completed out of',hm_epochs,'loss:',epoch_loss)\n",
    "\n",
    "        correct = tf.equal(tf.argmax(prediction, 1), tf.argmax(y, 1))\n",
    "\n",
    "        accuracy = tf.reduce_mean(tf.cast(correct, 'float'))\n",
    "        print('Accuracy:',accuracy.eval({\n",
    "                    x:mnist.test.images.reshape((-1, n_chunks, chunk_size)), \n",
    "                    y:mnist.test.labels}))\n",
    "\n",
    "train_neural_network(x)"
   ]
  },
  {
   "cell_type": "markdown",
   "metadata": {},
   "source": [
    "Kot je razvidno zgoraj, je rezultat tega modela primerljiv s prejšnjo daljšo implementacijo. Ker pa je ta implementacija krajša in preprostejša je seveda boljša."
   ]
  }
 ],
 "metadata": {
  "anaconda-cloud": {},
  "kernelspec": {
   "display_name": "Python [conda env:jupyter-tf]",
   "language": "python",
   "name": "conda-env-jupyter-tf-py"
  },
  "language_info": {
   "codemirror_mode": {
    "name": "ipython",
    "version": 3
   },
   "file_extension": ".py",
   "mimetype": "text/x-python",
   "name": "python",
   "nbconvert_exporter": "python",
   "pygments_lexer": "ipython3",
   "version": "3.5.2"
  }
 },
 "nbformat": 4,
 "nbformat_minor": 1
}
