{
 "cells": [
  {
   "cell_type": "markdown",
   "metadata": {},
   "source": [
    "### Osnovni RNN model za klasifikacijo slik\n",
    "Ponavljajoče mreže se najbolj uporabljajo za delo s časovno odvisnimi nabori podatkov. Vendar pa jih lahko uprorabimo tudi za druge naloge. Npr. za že znano klasifikacijo ročno zapisanih števil.  \n",
    "Tukaj je prvi primer takšnega modela, po [tutorialu iz youtuba](https://www.youtube.com/watch?v=SeffmcG42SY&index=20&list=PLXO45tsB95cJHXaDKpbwr5fC_CCYylw1f).\n",
    "\n",
    "Gre za osnovno spoznavanje novih funkcij v knjižnici Tensorflow na že znanem naboru podatkov."
   ]
  },
  {
   "cell_type": "code",
   "execution_count": 1,
   "metadata": {
    "collapsed": false
   },
   "outputs": [
    {
     "name": "stdout",
     "output_type": "stream",
     "text": [
      "Extracting ../.datasets/mnist/train-images-idx3-ubyte.gz\n",
      "Extracting ../.datasets/mnist/train-labels-idx1-ubyte.gz\n",
      "Extracting ../.datasets/mnist/t10k-images-idx3-ubyte.gz\n",
      "Extracting ../.datasets/mnist/t10k-labels-idx1-ubyte.gz\n"
     ]
    }
   ],
   "source": [
    "import tensorflow as tf\n",
    "\n",
    "from tensorflow.examples.tutorials.mnist import input_data\n",
    "\n",
    "# set random seed for comparing the two result calculations\n",
    "tf.set_random_seed(1)\n",
    "\n",
    "# read the data\n",
    "mnist = input_data.read_data_sets('../.datasets/mnist/', one_hot=True)\n",
    "\n",
    "# hyperparameters\n",
    "lr = 0.001\n",
    "training_iters = 100000\n",
    "batch_size = 128\n",
    "\n",
    "n_inputs = 28          # MNIST data input (img shape: 28*28)\n",
    "n_steps = 28           # # of time steps\n",
    "n_hidden_units = 128   # neurons in hidden layer\n",
    "n_classes = 10         # MNIST classes (0-9 digits)\n",
    "\n",
    "# Graph input\n",
    "x = tf.placeholder(tf.float32, [None, n_steps, n_inputs])\n",
    "y = tf.placeholder(tf.float32, [None, n_classes])\n"
   ]
  },
  {
   "cell_type": "markdown",
   "metadata": {
    "collapsed": true
   },
   "source": [
    "V jedru vsakega RNN modela se nahaja RNN-celica. To je sloj nevronske mreže, ki ga n-krat ponovimo. Ta ponovitev je implementirana kot veriga, kjer je prva ponovitev povezana z drugo, druga s tretjo itn., ta povezava pa je predstavljena s tokom podatkov.  \n",
    "V tem primeru, ko klasificiramo slike, prva celica prejme kot vhodni podatek prvi vrstico slike. Kot vse plasti v nevronskih mrežah, ta celica nekaj izračuna in vrne izračunan rezultat, tega model združi z drugo vrstico slike in pošlje kot vhodni podatek drugi ponovitvi celice. Ta proces se ponovi n-krat in z njim želimo ujeti zaporedno (časovno) odvisnost nabora podatkov.  \n",
    "Notranjost RNN-celice je sestavljena iz ene ali več operacij, ki celico definirajo. Te operacije so poljubne, obstajata pa dve priljubljeni konfiguraciji RNN-celic:  \n",
    "- [GRU - Gated Recurrent Unit](http://r2rt.com/written-memories-understanding-deriving-and-extending-the-lstm.html),\n",
    "- [LSTM - Long Short Term Memmory](http://colah.github.io/posts/2015-08-Understanding-LSTMs/).\n",
    "\n",
    "V tem modelu je uporabljena LSTM - celica implementirana v knjižnici Tensorflow."
   ]
  },
  {
   "cell_type": "code",
   "execution_count": 2,
   "metadata": {
    "collapsed": false
   },
   "outputs": [],
   "source": [
    "# Define weights\n",
    "weights = {\n",
    "    # (28, 128)\n",
    "    'in': tf.Variable(tf.random_normal([n_inputs, n_hidden_units])),\n",
    "    # (128, 10)\n",
    "    'out': tf.Variable(tf.random_normal([n_hidden_units, n_classes]))\n",
    "}\n",
    "biases = {\n",
    "    # (128, )\n",
    "    'in': tf.Variable(tf.constant(0.1, shape=[n_hidden_units, ])),\n",
    "    # (10, )\n",
    "    'out': tf.Variable(tf.constant(0.1, shape=[n_classes, ]))\n",
    "}\n",
    "\n",
    "\n",
    "def RNN(X, weights, biases):\n",
    "    # hidden layer for input to cell\n",
    "    ########################################\n",
    "    # X ==> 128 batch * 28 step, 28 inputs\n",
    "    X = tf.reshape(X, [-1,n_inputs])\n",
    "    X_in = tf.matmul(X, weights['in']) + biases['in']\n",
    "    X_in = tf.reshape(X_in, [-1, n_steps, n_hidden_units])\n",
    "    \n",
    "    # cell\n",
    "    ##########################################\n",
    "    lstm_cell = tf.contrib.rnn.BasicLSTMCell(n_hidden_units, forget_bias=1.0, state_is_tuple=True)\n",
    "    _init_state = lstm_cell.zero_state(batch_size, dtype=tf.float32)\n",
    "    \n",
    "    outputs, final_state = tf.nn.dynamic_rnn(lstm_cell, X_in, initial_state=_init_state, time_major=False)\n",
    "    \n",
    "    \n",
    "    # hidden layer for output as the final results\n",
    "    #############################################\n",
    "    \n",
    "    results = tf.matmul(final_state[1], weights['out']) + biases['out']\n",
    "    \n",
    "    return results\n"
   ]
  },
  {
   "cell_type": "code",
   "execution_count": 3,
   "metadata": {
    "collapsed": false
   },
   "outputs": [],
   "source": [
    "# get the predictions using our predefined RNN\n",
    "pred = RNN(x, weights, biases)\n",
    "\n",
    "# cost calculation\n",
    "cost = tf.reduce_mean(tf.nn.softmax_cross_entropy_with_logits(logits=pred, labels=y))\n",
    "\n",
    "# optimizer\n",
    "train_op = tf.train.AdamOptimizer(lr).minimize(cost)\n",
    "\n",
    "# evaluation\n",
    "correct_pred = tf.equal(tf.argmax(pred, 1), tf.argmax(y, 1))\n",
    "accuracy = tf.reduce_mean(tf.cast(correct_pred, tf.float32))\n"
   ]
  },
  {
   "cell_type": "code",
   "execution_count": 4,
   "metadata": {
    "collapsed": false
   },
   "outputs": [
    {
     "name": "stdout",
     "output_type": "stream",
     "text": [
      "0.203125\n",
      "0.640625\n",
      "0.726562\n",
      "0.789062\n",
      "0.820312\n",
      "0.851562\n",
      "0.890625\n",
      "0.945312\n",
      "0.929688\n",
      "0.882812\n",
      "0.890625\n",
      "0.90625\n",
      "0.960938\n",
      "0.898438\n",
      "0.945312\n",
      "0.929688\n",
      "0.953125\n",
      "0.945312\n",
      "0.945312\n",
      "0.90625\n",
      "0.90625\n",
      "0.960938\n",
      "0.96875\n",
      "0.9375\n",
      "0.960938\n",
      "0.992188\n",
      "0.945312\n",
      "0.976562\n",
      "0.953125\n",
      "0.976562\n",
      "0.960938\n",
      "0.953125\n",
      "0.960938\n",
      "0.984375\n",
      "0.9375\n",
      "0.984375\n",
      "0.96875\n",
      "0.992188\n",
      "0.976562\n",
      "0.984375\n"
     ]
    }
   ],
   "source": [
    "# the session that runs the learning proces\n",
    "with tf.Session() as sess:\n",
    "    init = tf.global_variables_initializer()\n",
    "    sess.run(init)\n",
    "    step = 0\n",
    "    \n",
    "    while step * batch_size < training_iters: \n",
    "        batch_xs, batch_ys = mnist.train.next_batch(batch_size)\n",
    "        batch_xs = batch_xs.reshape([batch_size, n_steps, n_inputs])\n",
    "        \n",
    "        # training step\n",
    "        sess.run([train_op], feed_dict={\n",
    "            x: batch_xs,\n",
    "            y: batch_ys,\n",
    "        })\n",
    "        \n",
    "        # log output\n",
    "        if step % 20 == 0:\n",
    "            print(sess.run(accuracy, feed_dict={\n",
    "            x: batch_xs,\n",
    "            y: batch_ys,\n",
    "        }))\n",
    "        step += 1"
   ]
  },
  {
   "cell_type": "markdown",
   "metadata": {},
   "source": [
    "Kot je razvidno iz izpisane natančnosti, so RNN-modeli tudi dobri pri klasifikaciji zapisanih števil. Tudi, če ni neke predvidene zaporedne odvisnosti."
   ]
  }
 ],
 "metadata": {
  "anaconda-cloud": {},
  "kernelspec": {
   "display_name": "Python [conda env:jupyter-tf]",
   "language": "python",
   "name": "conda-env-jupyter-tf-py"
  },
  "language_info": {
   "codemirror_mode": {
    "name": "ipython",
    "version": 3
   },
   "file_extension": ".py",
   "mimetype": "text/x-python",
   "name": "python",
   "nbconvert_exporter": "python",
   "pygments_lexer": "ipython3",
   "version": "3.5.2"
  }
 },
 "nbformat": 4,
 "nbformat_minor": 1
}
