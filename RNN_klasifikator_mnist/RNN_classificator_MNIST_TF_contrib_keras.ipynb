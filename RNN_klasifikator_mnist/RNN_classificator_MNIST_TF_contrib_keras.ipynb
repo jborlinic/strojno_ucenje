{
 "cells": [
  {
   "cell_type": "markdown",
   "metadata": {},
   "source": [
    "### Osnovni RNN model za klasifikacijo slik z implementacijo RNN-modela iz knjižnice Tensorflow.contrib.keras\n",
    "\n",
    "Tretja implementacija modela ponavljajoče nevronske mreže za klasifikacijo ročno zapisanih števil. Tokrat brez sledenja kakšnemu tutorialu. Gre za preprostejšo kodo z uporabo že implementiranega modela, ki ga najdemo v knjižnici tensorflow.contrib.keras.  \n",
    "[Keras](https://keras.io/) je visoko nivojska knjižnica za implementacijo nevronskih mrež, ki za osnovo uporablja Tensorflow in se bo v prihodnje združila s Tensorflowom, kot njen visoko nivojski api. Implementacija modelov s to knjižnico je zelo poenostavljena in primerna tako za testiranje modelov kot za končne \"fine\" nastavitve (_ang. fine tunning_). \n",
    "\n",
    "__Opomba:__ Knjižnica tensorflow.contrib.keras je ena izmed najnovejših dodatkov knjižnici tensorflow in še ne obstaja v stabilni verziji Tensorflow 1.0. Če jo želimo uporabljati potrebujemo vsaj verzijo [Tensorflow 1.1](https://github.com/tensorflow/tensorflow)."
   ]
  },
  {
   "cell_type": "code",
   "execution_count": 3,
   "metadata": {
    "collapsed": false
   },
   "outputs": [
    {
     "name": "stdout",
     "output_type": "stream",
     "text": [
      "1.0.0\n"
     ]
    }
   ],
   "source": [
    "import tensorflow as tf\n",
    "print(tf.__version__)"
   ]
  },
  {
   "cell_type": "code",
   "execution_count": 2,
   "metadata": {
    "collapsed": false
   },
   "outputs": [
    {
     "ename": "AttributeError",
     "evalue": "module 'tensorflow.contrib' has no attribute 'keras'",
     "output_type": "error",
     "traceback": [
      "\u001b[0;31m---------------------------------------------------------------------------\u001b[0m",
      "\u001b[0;31mAttributeError\u001b[0m                            Traceback (most recent call last)",
      "\u001b[0;32m<ipython-input-2-066d698854e8>\u001b[0m in \u001b[0;36m<module>\u001b[0;34m()\u001b[0m\n\u001b[1;32m      3\u001b[0m \u001b[0;32mimport\u001b[0m \u001b[0mtensorflow\u001b[0m \u001b[0;32mas\u001b[0m \u001b[0mtf\u001b[0m\u001b[0;34m\u001b[0m\u001b[0m\n\u001b[1;32m      4\u001b[0m \u001b[0;32mimport\u001b[0m \u001b[0mnumpy\u001b[0m \u001b[0;32mas\u001b[0m \u001b[0mnp\u001b[0m\u001b[0;34m\u001b[0m\u001b[0m\n\u001b[0;32m----> 5\u001b[0;31m \u001b[0mkeras\u001b[0m \u001b[0;34m=\u001b[0m \u001b[0mtf\u001b[0m\u001b[0;34m.\u001b[0m\u001b[0mcontrib\u001b[0m\u001b[0;34m.\u001b[0m\u001b[0mkeras\u001b[0m\u001b[0;34m\u001b[0m\u001b[0m\n\u001b[0m\u001b[1;32m      6\u001b[0m \u001b[0;34m\u001b[0m\u001b[0m\n\u001b[1;32m      7\u001b[0m \u001b[0mmnist\u001b[0m \u001b[0;34m=\u001b[0m \u001b[0mkeras\u001b[0m\u001b[0;34m.\u001b[0m\u001b[0mdatasets\u001b[0m\u001b[0;34m.\u001b[0m\u001b[0mmnist\u001b[0m\u001b[0;34m\u001b[0m\u001b[0m\n",
      "\u001b[0;31mAttributeError\u001b[0m: module 'tensorflow.contrib' has no attribute 'keras'"
     ]
    }
   ],
   "source": [
    "### Needs tensorflow 1.1 or higher\n",
    "\n",
    "#import tensorflow as tf\n",
    "\n",
    "import numpy as np\n",
    "keras = tf.contrib.keras\n",
    "\n",
    "mnist = keras.datasets.mnist\n",
    "\n",
    "# Keras has certain datasets implemented, digit recognition MNIST is one of them,\n",
    "# this is how to get it in the correct format\n",
    "(x_train, y_train), (x_test, y_test) = mnist.load_data()\n",
    "\n",
    "# transforming y into a one-hot vector\n",
    "l_len = len(y_train)\n",
    "b = np.zeros((l_len, 10))\n",
    "b[np.arange(l_len), y_train] = 1\n",
    "y_train = b\n",
    "\n",
    "\n",
    "l_len = len(y_test)\n",
    "b = np.zeros((l_len, 10))\n",
    "b[np.arange(l_len), y_test] = 1\n",
    "y_test = b\n",
    "\n",
    "# implementing the model, it consists of:\n",
    "\n",
    "# input layer\n",
    "x = keras.layers.Input(shape=(28,28))\n",
    "\n",
    "# the recurrent lstm cell layer\n",
    "lstm = keras.layers.LSTM(256)(x)\n",
    "\n",
    "# softmax classification layer\n",
    "pred = keras.layers.Dense(10, activation=\"softmax\")(lstm)\n",
    "\n",
    "# model wrapper\n",
    "model = keras.models.Model(x, pred)\n",
    "\n",
    "# initialization and model loss and optimizer\n",
    "model.compile(optimizer=keras.optimizers.Adam(),\n",
    "\t\t\t  loss=keras.losses.categorical_crossentropy)\n",
    "\n",
    "# callbacks are keras log handlers, in this case we use Tensorflows Tensorboard\n",
    "TensorBoard = keras.callbacks.TensorBoard(log_dir=LOGDIR+'tb/', histogram_freq=0, write_graph=True)\n",
    "\n",
    "# fit function that trains the model (or fits the model to the data given as x and y) \n",
    "model.fit(x=x_train,\n",
    "\t\t  y=y_train,\n",
    "\t\t  batch_size=100, \n",
    "\t\t  epochs=1, \n",
    "\t\t  validation_data=(x_test, y_test),\n",
    "\t\t  shuffle=True,\n",
    "\t\t  verbose=1,\n",
    "\t\t  callbacks=TensorBoard)\n",
    "\n",
    "# a function that saves the learned weights of the model\n",
    "keras.models.save_model(model, LOGDIR + 'model.hdf5', overwrite=True)"
   ]
  },
  {
   "cell_type": "markdown",
   "metadata": {},
   "source": [
    "Obstaja velika možnost, da ima ta koda kakšne napake, saj je bila napisana na (takrat) najbolj posodobljeni verziji Tensorflowa, ki pa je sedaj lahko že spremenjena.  \n",
    "Najbolj verjetne težave:\n",
    "    - callback TensorBoard,\n",
    "    - shranjevanje modela\n",
    "    - obstoj knjižnice contrib.keras v Tensorflow verzijah < 1.1"
   ]
  }
 ],
 "metadata": {
  "anaconda-cloud": {},
  "kernelspec": {
   "display_name": "Python [conda env:jupyter-tf]",
   "language": "python",
   "name": "conda-env-jupyter-tf-py"
  },
  "language_info": {
   "codemirror_mode": {
    "name": "ipython",
    "version": 3
   },
   "file_extension": ".py",
   "mimetype": "text/x-python",
   "name": "python",
   "nbconvert_exporter": "python",
   "pygments_lexer": "ipython3",
   "version": "3.5.2"
  }
 },
 "nbformat": 4,
 "nbformat_minor": 1
}
