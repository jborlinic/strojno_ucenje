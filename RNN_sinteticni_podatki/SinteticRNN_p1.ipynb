{
 "cells": [
  {
   "cell_type": "markdown",
   "metadata": {},
   "source": [
    "### Osnovna ponavljajoča nevronaska mreža (_ang. RNN-Recurrent Neural Network_)\n",
    "Za začetek učenja ponavljajočih nevronskih mrež poizkušajmo slediti in implementirati osnovni RNN po [tem tutorialu](http://r2rt.com/recurrent-neural-networks-in-tensorflow-i.html).  \n",
    "V kategorijo ponavljajočih nevronskih mrež spadajo predvsem takšne mreže, ki s pomočjo ponavljajočega izvajanja dela mreže ali ciklične povezanosti poizkušajo razumeti zaporedne lastnosti nabora podatkov. Ideja temelji na n-kratni ponovitvi RNN-celice, ki je v jedru nevronske mreže. RNN-ji so najbolj uporabni za časovno odvisne nabore podatkov, katerih osnovna lastnost je, da vsebujejo nize podatkov. RNN-celice so sestavljene tako, da te nize podatkov sprocesirajo po delih, vsak del v svoji ponovitvi. Med seboj so povezane tako, da se izhodni podatki ene ponovitve celice dodajo vhodnim podatkom naslednje ponovitve in s tem pridobimo možnost, da pomen podatkov prvega dela niza vpliva na pomen podatkov v naslednjem delu niza itn.  \n",
    "Ta osnovna ideja ponavljajočih nevronskih mrež je v zgornjem tutorialu lepo opisana in prikazana na sintetičnem naboru podatkov. Spodnja koda pa je prvi del kode, ki je nastala ob sledenju zgornji povezavi."
   ]
  },
  {
   "cell_type": "code",
   "execution_count": 1,
   "metadata": {
    "collapsed": false
   },
   "outputs": [],
   "source": [
    "import numpy as np\n",
    "import tensorflow as tf\n",
    "%matplotlib inline\n",
    "import matplotlib.pyplot as plt"
   ]
  },
  {
   "cell_type": "code",
   "execution_count": 2,
   "metadata": {
    "collapsed": true
   },
   "outputs": [],
   "source": [
    "# Global config variables\n",
    "num_steps = 10 # number of truncated backprop steps ('n' in the discussion above)\n",
    "batch_size = 200\n",
    "num_classes = 2\n",
    "state_size = 4\n",
    "learning_rate = 0.1"
   ]
  },
  {
   "cell_type": "code",
   "execution_count": 3,
   "metadata": {
    "collapsed": true
   },
   "outputs": [],
   "source": [
    "def gen_data(size=1000000):\n",
    "    X = np.array(np.random.choice(2, size=(size,)))\n",
    "    Y = []\n",
    "    for i in range(size):\n",
    "        threshold = 0.5\n",
    "        if X[i-3] == 1:\n",
    "            threshold += 0.5\n",
    "        if X[i-8] == 1:\n",
    "            threshold -= 0.25\n",
    "        if np.random.rand() > threshold:\n",
    "            Y.append(0)\n",
    "        else:\n",
    "            Y.append(1)\n",
    "    return X, np.array(Y)\n",
    "\n",
    "# adapted from https://github.com/tensorflow/tensorflow/blob/master/tensorflow/models/rnn/ptb/reader.py\n",
    "def gen_batch(raw_data, batch_size, num_steps):\n",
    "    raw_x, raw_y = raw_data\n",
    "    data_length = len(raw_x)\n",
    "\n",
    "    # partition raw data into batches and stack them vertically in a data matrix\n",
    "    batch_partition_length = data_length // batch_size\n",
    "    data_x = np.zeros([batch_size, batch_partition_length], dtype=np.int32)\n",
    "    data_y = np.zeros([batch_size, batch_partition_length], dtype=np.int32)\n",
    "    for i in range(batch_size):\n",
    "        data_x[i] = raw_x[batch_partition_length * i:batch_partition_length * (i + 1)]\n",
    "        data_y[i] = raw_y[batch_partition_length * i:batch_partition_length * (i + 1)]\n",
    "    # further divide batch partitions into num_steps for truncated backprop\n",
    "    epoch_size = batch_partition_length // num_steps\n",
    "\n",
    "    for i in range(epoch_size):\n",
    "        x = data_x[:, i * num_steps:(i + 1) * num_steps]\n",
    "        y = data_y[:, i * num_steps:(i + 1) * num_steps]\n",
    "        yield (x, y)\n",
    "\n",
    "def gen_epochs(n, num_steps):\n",
    "    for i in range(n):\n",
    "        yield gen_batch(gen_data(), batch_size, num_steps)"
   ]
  },
  {
   "cell_type": "code",
   "execution_count": 4,
   "metadata": {
    "collapsed": false
   },
   "outputs": [],
   "source": [
    "\"\"\"\n",
    "Placeholders\n",
    "\"\"\"\n",
    "\n",
    "x = tf.placeholder(tf.int32, [batch_size, num_steps], name='input_placeholder')\n",
    "y = tf.placeholder(tf.int32, [batch_size, num_steps], name='labels_placeholder')\n",
    "init_state = tf.zeros([batch_size, state_size])\n",
    "\n",
    "\"\"\"\n",
    "Inputs\n",
    "\"\"\"\n",
    "\n",
    "rnn_inputs = tf.one_hot(x, num_classes)\n",
    "\n",
    "\"\"\"\n",
    "RNN\n",
    "\"\"\"\n",
    "\n",
    "cell = tf.contrib.rnn.BasicRNNCell(state_size)\n",
    "rnn_outputs, final_state = tf.nn.dynamic_rnn(cell, rnn_inputs, initial_state=init_state)\n",
    "\n",
    "\"\"\"\n",
    "Predictions, loss, training step\n",
    "\"\"\"\n",
    "\n",
    "with tf.variable_scope('softmax'):\n",
    "    W = tf.get_variable('W', [state_size, num_classes])\n",
    "    b = tf.get_variable('b', [num_classes], initializer=tf.constant_initializer(0.0))\n",
    "logits = tf.reshape(\n",
    "            tf.matmul(tf.reshape(rnn_outputs, [-1, state_size]), W) + b,\n",
    "            [batch_size, num_steps, num_classes])\n",
    "predictions = tf.nn.softmax(logits)\n",
    "\n",
    "losses = tf.nn.sparse_softmax_cross_entropy_with_logits(labels=y, logits=logits)\n",
    "total_loss = tf.reduce_mean(losses)\n",
    "train_step = tf.train.AdagradOptimizer(learning_rate).minimize(total_loss)"
   ]
  },
  {
   "cell_type": "code",
   "execution_count": 5,
   "metadata": {
    "collapsed": false
   },
   "outputs": [],
   "source": [
    "\"\"\"\n",
    "Train the network\n",
    "\"\"\"\n",
    "\n",
    "def train_network(num_epochs, num_steps, state_size=4, verbose=True):\n",
    "    with tf.Session() as sess:\n",
    "        sess.run(tf.global_variables_initializer())\n",
    "        training_losses = []\n",
    "        for idx, epoch in enumerate(gen_epochs(num_epochs, num_steps)):\n",
    "            training_loss = 0\n",
    "            training_state = np.zeros((batch_size, state_size))\n",
    "            if verbose:\n",
    "                print(\"\\nEPOCH\", idx)\n",
    "            for step, (X, Y) in enumerate(epoch):\n",
    "                tr_losses, training_loss_, input_x, rnn_out, training_state, _ = \\\n",
    "                    sess.run([losses,\n",
    "                              total_loss,\n",
    "                              rnn_inputs,\n",
    "                              rnn_outputs,\n",
    "                              final_state,\n",
    "                              train_step],\n",
    "                                  feed_dict={x:X, y:Y, init_state:training_state})\n",
    "                training_loss += training_loss_\n",
    "                if step % 100 == 0 and step > 0:\n",
    "                    if verbose:\n",
    "                        print(\"Average loss at step\", step,\n",
    "                              \"for last 250 steps:\", training_loss/100)\n",
    "                    training_losses.append(training_loss/100)\n",
    "                    training_loss = 0\n",
    "                    print(input_x[0],'\\n', rnn_out[0])\n",
    "\n",
    "    return training_losses"
   ]
  },
  {
   "cell_type": "code",
   "execution_count": 6,
   "metadata": {
    "collapsed": false
   },
   "outputs": [
    {
     "name": "stdout",
     "output_type": "stream",
     "text": [
      "\n",
      "EPOCH 0\n",
      "Average loss at step 100 for last 250 steps: 0.622288075089\n",
      "[[ 1.  0.]\n",
      " [ 0.  1.]\n",
      " [ 1.  0.]\n",
      " [ 1.  0.]\n",
      " [ 0.  1.]\n",
      " [ 1.  0.]\n",
      " [ 1.  0.]\n",
      " [ 1.  0.]\n",
      " [ 1.  0.]\n",
      " [ 1.  0.]] \n",
      " [[ 0.4146623  -0.54323041  0.71038729  0.75951642]\n",
      " [ 0.56690001 -0.08678813 -0.05555882 -0.8841241 ]\n",
      " [ 0.28110269  0.11736859 -0.31548217  0.85789412]\n",
      " [ 0.41539589 -0.18349363  0.62354994  0.46098316]\n",
      " [ 0.51565337 -0.32934466  0.07751327 -0.7773484 ]\n",
      " [ 0.29000697  0.35846323 -0.42353064  0.76356369]\n",
      " [ 0.38770413 -0.38119087  0.70141125  0.62229043]\n",
      " [ 0.68884724  0.55969411  0.17840759 -0.3843075 ]\n",
      " [ 0.62217927 -0.34705052  0.34672886  0.78644061]\n",
      " [ 0.73980719  0.24058397  0.23670521 -0.0478593 ]]\n",
      "Average loss at step 200 for last 250 steps: 0.528475174308\n",
      "[[ 0.  1.]\n",
      " [ 1.  0.]\n",
      " [ 1.  0.]\n",
      " [ 1.  0.]\n",
      " [ 1.  0.]\n",
      " [ 0.  1.]\n",
      " [ 1.  0.]\n",
      " [ 1.  0.]\n",
      " [ 1.  0.]\n",
      " [ 1.  0.]] \n",
      " [[ 0.59386432 -0.72460991 -0.04805132 -0.0585435 ]\n",
      " [ 0.37114593  0.25346377 -0.59148115  0.54953313]\n",
      " [ 0.14125651 -0.44088778  0.53635347  0.76610792]\n",
      " [ 0.46583948  0.65667415  0.27122527 -0.52070814]\n",
      " [ 0.65506148 -0.26405999  0.21046384  0.61720425]\n",
      " [ 0.59401202 -0.57315767 -0.17053589 -0.42973682]\n",
      " [ 0.29556537  0.10121283 -0.65860438  0.73508793]\n",
      " [ 0.00563538 -0.34784645  0.55536568  0.72420645]\n",
      " [ 0.38313371  0.69246453  0.37113625 -0.56965607]\n",
      " [ 0.64842236 -0.16420804  0.24507752  0.53027582]]\n",
      "Average loss at step 300 for last 250 steps: 0.52187699914\n",
      "[[ 1.  0.]\n",
      " [ 0.  1.]\n",
      " [ 0.  1.]\n",
      " [ 1.  0.]\n",
      " [ 1.  0.]\n",
      " [ 1.  0.]\n",
      " [ 1.  0.]\n",
      " [ 0.  1.]\n",
      " [ 1.  0.]\n",
      " [ 0.  1.]] \n",
      " [[  1.47343725e-01  -3.54377270e-01   4.81037617e-01   6.87507272e-01]\n",
      " [  3.33645046e-01   5.51364869e-02   1.22875944e-02  -7.89892793e-01]\n",
      " [  1.86159506e-01  -5.19171000e-01  -6.11091614e-01   2.62583047e-01]\n",
      " [ -2.64639467e-01   1.02409661e-01  -1.53780237e-01   6.66118979e-01]\n",
      " [ -2.10395426e-01   3.48050296e-01   6.55430853e-01  -4.51204665e-02]\n",
      " [  3.34546953e-01   5.95772266e-01   4.38059688e-01  -4.48559970e-01]\n",
      " [  6.40354276e-01  -2.32193619e-04   1.53138205e-01   3.61373365e-01]\n",
      " [  5.86561978e-01  -6.17645741e-01  -1.43674433e-01  -1.43894628e-01]\n",
      " [  3.33785206e-01   1.40713498e-01  -5.96573591e-01   6.50501847e-01]\n",
      " [ -3.58004309e-02  -7.72124469e-01   2.97954232e-01   2.94629455e-01]]\n",
      "Average loss at step 400 for last 250 steps: 0.520838411748\n",
      "[[ 0.  1.]\n",
      " [ 1.  0.]\n",
      " [ 0.  1.]\n",
      " [ 1.  0.]\n",
      " [ 1.  0.]\n",
      " [ 0.  1.]\n",
      " [ 1.  0.]\n",
      " [ 0.  1.]\n",
      " [ 0.  1.]\n",
      " [ 1.  0.]] \n",
      " [[-0.24550413  0.03169328  0.46477699 -0.72870779]\n",
      " [ 0.0607028   0.66506636 -0.17843419 -0.1546609 ]\n",
      " [ 0.02612367 -0.64488429  0.31942135  0.12533134]\n",
      " [ 0.13445751  0.69549334 -0.30019107 -0.26779023]\n",
      " [ 0.15464747 -0.33557883  0.44099811  0.70965803]\n",
      " [ 0.31876373  0.08444241  0.01493289 -0.75900996]\n",
      " [ 0.31915402  0.05796526 -0.39474663  0.65637994]\n",
      " [ 0.05695974 -0.65364879  0.23384181  0.10125589]\n",
      " [-0.03169082  0.21883777 -0.51212293 -0.58930516]\n",
      " [-0.28155243 -0.07994207 -0.02004698  0.76309216]]\n"
     ]
    },
    {
     "data": {
      "text/plain": [
       "[<matplotlib.lines.Line2D at 0x7fe0000156a0>]"
      ]
     },
     "execution_count": 6,
     "metadata": {},
     "output_type": "execute_result"
    },
    {
     "data": {
      "image/png": "[encoded data removed]",
      "text/plain": [
       "<matplotlib.figure.Figure at 0x7fe012d330f0>"
      ]
     },
     "metadata": {},
     "output_type": "display_data"
    }
   ],
   "source": [
    "training_losses = train_network(1,num_steps)\n",
    "plt.plot(training_losses)"
   ]
  },
  {
   "cell_type": "code",
   "execution_count": null,
   "metadata": {
    "collapsed": true
   },
   "outputs": [],
   "source": []
  }
 ],
 "metadata": {
  "anaconda-cloud": {},
  "kernelspec": {
   "display_name": "Python [conda env:jupyter-tf]",
   "language": "python",
   "name": "conda-env-jupyter-tf-py"
  },
  "language_info": {
   "codemirror_mode": {
    "name": "ipython",
    "version": 3
   },
   "file_extension": ".py",
   "mimetype": "text/x-python",
   "name": "python",
   "nbconvert_exporter": "python",
   "pygments_lexer": "ipython3",
   "version": "3.5.2"
  }
 },
 "nbformat": 4,
 "nbformat_minor": 1
}
