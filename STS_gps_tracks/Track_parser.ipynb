{
 "cells": [
  {
   "cell_type": "markdown",
   "metadata": {},
   "source": [
    "### Idea\n",
    "Transform gps tracks:\n",
    "- connect individual points with lines\n",
    "- resample simmetric points (each 10 sec?)\n",
    "- ??? resnap the generated points (learn how to do that - Iztok/Alen)\n",
    "- isolate route Ljubljana - Venice (special data folder)\n",
    "- normalize the new data\n",
    "    - normalize method 1: min -> 0, max -> 1\n",
    "    - normalize method 2: normalize GPS coordinates (-90, 90), (0, 360)\n",
    "\n",
    "data directory: C:\\Users\\Uporabnik\\Code\\strojno_ucenje\\.datasets\\gps_tracks\\matchedData.txt"
   ]
  },
  {
   "cell_type": "code",
   "execution_count": 17,
   "metadata": {},
   "outputs": [
    {
     "name": "stdout",
     "output_type": "stream",
     "text": [
      "(3364, 2) \n",
      "                                             description  \\\n",
      "0                                    Ljubljana - Venice   \n",
      "1     Ljubljana - [Zrkovska cesta 182a, 2000 Maribor...   \n",
      "2     Ljubljana - Genoa, Savona - [Raičeva ulica 121...   \n",
      "3     [Vipava - območje jedra s spomeniki in znameni...   \n",
      "4                 Ljubljana - Savona, Genoa - Ljubljana   \n",
      "5              Ljubljana - Maribor, Maribor - Ljubljana   \n",
      "6     Ljubljana - Trieste, Trieste - [Černigojeva ul...   \n",
      "7     [Tivolska cesta 48, 1000 Ljubljana, Slovenia] ...   \n",
      "8                                     Milan - Ljubljana   \n",
      "9                                   Maribor - Ljubljana   \n",
      "10    [Srednje Gameljne 23, 1211 Ljubljana - Šmartno...   \n",
      "11               Ljubljana - Venice, Venice - Ljubljana   \n",
      "12               Ljubljana - Venice, Venice - Ljubljana   \n",
      "13    [Savinova ulica 11, 1000 Ljubljana, Slovenija]...   \n",
      "14    [Ramovševa ulica 65, 1000 Ljubljana, Slovenija...   \n",
      "15              Ljubljana - Trieste, Venice - Ljubljana   \n",
      "16               Ljubljana - Venice, Venice - Ljubljana   \n",
      "17                                   Venice - Ljubljana   \n",
      "18                                  Bologna - Ljubljana   \n",
      "19                Milan - Ljubljana, Ljubljana - Venice   \n",
      "20                                   Ljubljana - Zagreb   \n",
      "21    [Vikrče 7a, 1211 Ljubljana - Šmartno, Slovenia...   \n",
      "22                   Ljubljana - Koper, Trieste - Celje   \n",
      "23    Ljubljana - Venice, Venice - [Sketova ulica 4,...   \n",
      "24    Trieste - [Grafenauerjeva ulica 29, 1000 Ljubl...   \n",
      "25                                      Trieste - Kranj   \n",
      "26    Ljubljana - Venice, Venice - Venice, Venice - ...   \n",
      "27               Ljubljana - Venice, Venice - Ljubljana   \n",
      "28               Ljubljana - Venice, Venice - Ljubljana   \n",
      "29                 Ljubljana - Milan, Milan - Ljubljana   \n",
      "...                                                 ...   \n",
      "3334  Portorož, Slovenia - Treviso, Italy | Venice, ...   \n",
      "3335  Maribor, Slovenia - Vienna, Austria | Vienna, ...   \n",
      "3336  Portorož, Slovenia - Venice, Italy | Venice, I...   \n",
      "3337  Portorož, Slovenia - Venice, Italy | Venice, I...   \n",
      "3338  Maribor, Slovenia - Venice, Italy | Udine, Ita...   \n",
      "3339  Maribor, Slovenia - Vienna, Austria | Vienna, ...   \n",
      "3340  Vodice, Slovenia - Munich, Germany | Munich, G...   \n",
      "3341  Ljubljana, Slovenia - Munich, Germany | Munich...   \n",
      "3342  Maribor, Slovenia - Venice, Italy | Venice, It...   \n",
      "3343  Piran, Slovenia - Venice, Italy | Venice, Ital...   \n",
      "3344                Kaldanija, Croatia - Treviso, Italy   \n",
      "3345  Ljubljana, Slovenia - Vienna, Austria | Vienna...   \n",
      "3346  Maribor, Slovenia - Zagreb, Croatia | Zagreb, ...   \n",
      "3347  Cankarjevo nabrežje 17, 6330 Piran - Pirano, S...   \n",
      "3348  Piran, Slovenia - Treviso, Italy | Treviso, It...   \n",
      "3349  Koper, Slovenia - Treviso, Italy | Treviso, It...   \n",
      "3350  Maribor, Slovenia - Graz, Austria | Graz, Aust...   \n",
      "3351  Maribor, Slovenia - Trieste, Italy | Trieste, ...   \n",
      "3352  Portorož, Slovenia - Ljubljana, Slovenia | Lju...   \n",
      "3353  Ljubljana, Slovenia - Munich, Germany | Munich...   \n",
      "3354  Maribor, Slovenia - Vienna, Austria | Vienna, ...   \n",
      "3355  Maribor, Slovenia - Treviso, Italy | Venice, I...   \n",
      "3356  Maribor, Slovenia - Vienna, Austria | Vienna, ...   \n",
      "3357                   Trieste, Italy - Piran, Slovenia   \n",
      "3358  Trieste, Italy - Ljubljana, Slovenia | Ljublja...   \n",
      "3359                   Piran, Slovenia - Trieste, Italy   \n",
      "3360  Maribor, Slovenia - Ljubljana, Slovenia | Ljub...   \n",
      "3361                Trieste, Italy - Portorož, Slovenia   \n",
      "3362  Maribor, Slovenia - Ljubljana, Slovenia | Ljub...   \n",
      "3363  Celje, Slovenia - Treviso, Italy | Treviso, It...   \n",
      "\n",
      "                                                snapped  \n",
      "0     [[45.442012786865234, 12.052892684936523], [45...  \n",
      "1     [[45.26043701171875, 13.626008987426758], [45....  \n",
      "2     [[45.81787109375, 13.021405220031738], [45.819...  \n",
      "3     [[46.0532341003418, 14.45527172088623], [46.05...  \n",
      "4     [[46.058780670166016, 14.454301834106445], [46...  \n",
      "5     [[46.050045013427734, 14.46102523803711], [46....  \n",
      "6     [[45.7983283996582, 14.25149154663086], [45.79...  \n",
      "7     [[46.05056381225586, 14.460567474365234], [46....  \n",
      "8     [[46.05529022216797, 14.452853202819824], [46....  \n",
      "9     [[45.509422302246094, 11.477179527282715], [45...  \n",
      "10    [[45.65809631347656, 12.204296112060547], [45....  \n",
      "11    [[46.082000732421875, 14.460541725158691], [46...  \n",
      "12    [[46.062713623046875, 14.455710411071777], [46...  \n",
      "13    [[45.62699890136719, 8.704808235168457], [45.6...  \n",
      "14    [[45.62570571899414, 8.71259880065918], [45.62...  \n",
      "15    [[46.10028076171875, 14.465542793273926], [46....  \n",
      "16    [[46.04960632324219, 14.460262298583984], [46....  \n",
      "17    [[45.88480758666992, 13.873700141906738], [45....  \n",
      "18    [[45.92097473144531, 13.64110279083252], [45.9...  \n",
      "19    [[46.04960632324219, 14.460262298583984], [46....  \n",
      "20    [[46.04960632324219, 14.460262298583984], [46....  \n",
      "21    [[46.07160568237305, 14.486294746398926], [46....  \n",
      "22    [[45.505985260009766, 12.335683822631836], [45...  \n",
      "23    [[46.04972839355469, 14.460785865783691], [46....  \n",
      "24    [[46.231449127197266, 14.45466136932373], [46....  \n",
      "25    [[46.04727554321289, 14.462393760681152], [46....  \n",
      "26    [[45.83103942871094, 13.10021686553955], [45.8...  \n",
      "27    [[45.67632293701172, 9.685172080993652], [45.6...  \n",
      "28    [[45.87320327758789, 15.096696853637695], [45....  \n",
      "29    [[45.63079833984375, 8.690879821777344], [45.6...  \n",
      "...                                                 ...  \n",
      "3334  [[45.50349426269531, 13.5977144241333], [45.50...  \n",
      "3335  [[45.8421745300293, 14.291837692260742], [45.8...  \n",
      "3336  [[45.802677154541016, 14.266033172607422], [45...  \n",
      "3337  [[45.50338363647461, 13.597661018371582], [45....  \n",
      "3338  [[46.05751037597656, 14.453827857971191], [46....  \n",
      "3339  [[46.05149841308594, 14.458985328674316], [46....  \n",
      "3340  [[46.09873962402344, 14.461453437805176], [46....  \n",
      "3341  [[46.06529998779297, 14.501782417297363], [46....  \n",
      "3342  [[45.89777755737305, 13.781743049621582], [45....  \n",
      "3343  [[45.50352096557617, 13.597723960876465], [45....  \n",
      "3344  [[46.229862213134766, 14.43686294555664], [46....  \n",
      "3345  [[46.08097839355469, 14.51360034942627], [46.0...  \n",
      "3346  [[46.05225372314453, 14.609312057495117], [46....  \n",
      "3347  [[46.083858489990234, 14.513989448547363], [46...  \n",
      "3348  [[45.50358963012695, 13.597756385803223], [45....  \n",
      "3349  [[45.52609634399414, 13.648978233337402], [45....  \n",
      "3350  [[48.19226837158203, 16.39090347290039], [48.1...  \n",
      "3351  [[46.04923629760742, 14.594443321228027], [46....  \n",
      "3352  [[46.083858489990234, 14.513989448547363], [46...  \n",
      "3353  [[46.080894470214844, 14.513588905334473], [46...  \n",
      "3354  [[45.92240905761719, 14.232840538024902], [45....  \n",
      "3355  [[45.54755783081055, 12.304945945739746], [45....  \n",
      "3356  [[45.825801849365234, 14.652586936950684], [45...  \n",
      "3357  [[45.7436637878418, 13.666153907775879], [45.7...  \n",
      "3358  [[46.08366394042969, 14.515694618225098], [46....  \n",
      "3359  [[45.72811508178711, 16.05635643005371], [45.7...  \n",
      "3360  [[46.04923629760742, 14.594443321228027], [46....  \n",
      "3361  [[46.0838508605957, 14.514060974121094], [46.0...  \n",
      "3362  [[46.04965591430664, 14.460471153259277], [46....  \n",
      "3363  [[46.04975509643555, 14.594208717346191], [46....  \n",
      "\n",
      "[3364 rows x 2 columns]\n"
     ]
    }
   ],
   "source": [
    "import numpy as np\n",
    "import pandas as pd\n",
    "import matplotlib.pyplot as plt\n",
    "\n",
    "DATA_DIR = \"../.datasets/gps_tracks/\"\n",
    "BASIC_FILE = \"matchedData.txt\"\n",
    "\n",
    "### read the data from our basic text file\n",
    "text_data_file = pd.read_table(DATA_DIR + BASIC_FILE, delimiter=';', usecols=(5,6), header=0)\n",
    "### check how the data looks\n",
    "print(text_data_file.shape, '\\n' ,text_data_file)"
   ]
  },
  {
   "cell_type": "code",
   "execution_count": 31,
   "metadata": {},
   "outputs": [
    {
     "name": "stdout",
     "output_type": "stream",
     "text": [
      "939 (939, 2) \n",
      "\n"
     ]
    }
   ],
   "source": [
    "\"\"\"\n",
    "Gather only the tracks that have \"venice\" in the description (index 0)\n",
    "\"\"\"\n",
    "text_data_lj_ve = pd.DataFrame(columns= ['description', 'snapped'])\n",
    "for index, route in text_data_file.iterrows():\n",
    "    if route['description'].find('Venice') > 0:\n",
    "        #print(route[['description']])\n",
    "        text_data_lj_ve.loc[len(text_data_lj_ve)] = route\n",
    "print(counter, text_data_lj_ve.shape, '\\n')"
   ]
  },
  {
   "cell_type": "code",
   "execution_count": 33,
   "metadata": {},
   "outputs": [
    {
     "name": "stdout",
     "output_type": "stream",
     "text": [
      "(3364,) (939,)\n"
     ]
    }
   ],
   "source": [
    "routes = text_data_file['snapped']\n",
    "routes_lj_ve = text_data_lj_ve['snapped']\n",
    "print(routes.shape, routes_lj_ve.shape)"
   ]
  },
  {
   "cell_type": "code",
   "execution_count": 34,
   "metadata": {
    "collapsed": true
   },
   "outputs": [],
   "source": [
    "### prepair an extraction methood, that transforms the string above to a list of numpy arrays\n",
    "def string_to_list(data):\n",
    "    new_data = []\n",
    "    for track in data:\n",
    "        track = track[2 : len(track) - 2].split('], [')\n",
    "        new_track = []\n",
    "        for t in track:\n",
    "            t = t.split(', ')\n",
    "            new_track.append(t)\n",
    "        new_track = np.array(new_track)\n",
    "        new_data.append(new_track.astype(float))\n",
    "    return new_data"
   ]
  },
  {
   "cell_type": "code",
   "execution_count": 37,
   "metadata": {},
   "outputs": [],
   "source": [
    "TRACK_FILE = \"snapped_tracks\"\n",
    "TRACK_FILE_LJ_VE = \"snapped_tracks_lj_ve\"\n",
    "DATA_DIR = \"../.datasets/gps_tracks/resampled/\"\n",
    "### save the transformed data to our first support file\n",
    "\n",
    "tracks = np.array(string_to_list(routes))\n",
    "tracks_lj_ve = np.array(string_to_list(routes_lj_ve))\n",
    "\n",
    "np.save(DATA_DIR + TRACK_FILE, tracks)\n",
    "np.save(DATA_DIR + TRACK_FILE_LJ_VE, tracks_lj_ve)\n"
   ]
  },
  {
   "cell_type": "code",
   "execution_count": 39,
   "metadata": {},
   "outputs": [],
   "source": [
    "def getMinMaxValues(data):\n",
    "    ### methood that returns the min and max values of each column\n",
    "    minMax = np.zeros((2,2))\n",
    "    minMax[0,0] = np.finfo('d').max\n",
    "    minMax[0,1] = np.finfo('d').max\n",
    "    for array in data:\n",
    "        #print(array[:,0].shape)\n",
    "        tempMinMax = np.zeros((2,2))\n",
    "        tempMinMax[0,0] = np.finfo('d').max\n",
    "        tempMinMax[0,1] = np.finfo('d').max\n",
    "        \n",
    "        tempMinMax[0,0] = np.amin(array[:,0])\n",
    "        tempMinMax[1,0] = np.amax(array[:,0])\n",
    "        tempMinMax[0,1] = np.amin(array[:,1])\n",
    "        tempMinMax[1,1] = np.amax(array[:,1])\n",
    "        \n",
    "        #print(tempMinMax[0,0],tempMinMax[1,0],tempMinMax[0,1],tempMinMax[1,1])\n",
    "        \n",
    "        for j in range(2):\n",
    "            # test for min\n",
    "            if minMax[0,j] > tempMinMax[0,j]:\n",
    "                minMax[0,j] = tempMinMax[0,j]\n",
    "            # test for max\n",
    "            if minMax[1,j] < tempMinMax[1,j]:\n",
    "                minMax[1,j] = tempMinMax[1,j]\n",
    "    \n",
    "    return minMax"
   ]
  },
  {
   "cell_type": "code",
   "execution_count": 40,
   "metadata": {
    "collapsed": true
   },
   "outputs": [],
   "source": [
    "def normalize(data, minMax):\n",
    "    \"\"\"\n",
    "    Function that normalizes the generated quadratic function data.\n",
    "    Parameters:\n",
    "        - data, (list of np.array of shape (n_of_points, 2))\n",
    "        - minMax, (np.array) where [0,i] represents the min value and [1,i] represents the max value of column i\n",
    "    \"\"\"\n",
    "    for array in data:\n",
    "        for i in range(2):\n",
    "            #print(array.shape)\n",
    "            array[:,i] = (array[:,i] - minMax[0,i]) \n",
    "            array[:,i] = array[:,i] / (minMax[1,i] - minMax[0,i])\n",
    "    \n",
    "    return data"
   ]
  },
  {
   "cell_type": "code",
   "execution_count": 51,
   "metadata": {},
   "outputs": [
    {
     "name": "stdout",
     "output_type": "stream",
     "text": [
      "[[ 41.38698578   7.65055418]\n",
      " [ 51.19366837  21.91259575]]\n",
      "(500, 2)\n"
     ]
    },
    {
     "data": {
      "image/png": "[encoded data removed]",
      "text/plain": [
       "<matplotlib.figure.Figure at 0x12f0c39fd30>"
      ]
     },
     "metadata": {},
     "output_type": "display_data"
    },
    {
     "name": "stdout",
     "output_type": "stream",
     "text": [
      "(500, 2)\n"
     ]
    },
    {
     "data": {
      "image/png": "[encoded data removed]",
      "text/plain": [
       "<matplotlib.figure.Figure at 0x12f08309518>"
      ]
     },
     "metadata": {},
     "output_type": "display_data"
    },
    {
     "name": "stdout",
     "output_type": "stream",
     "text": [
      "(500, 2)\n"
     ]
    },
    {
     "data": {
      "image/png": "[encoded data removed]",
      "text/plain": [
       "<matplotlib.figure.Figure at 0x12f16834e10>"
      ]
     },
     "metadata": {},
     "output_type": "display_data"
    },
    {
     "name": "stdout",
     "output_type": "stream",
     "text": [
      "(500, 2)\n"
     ]
    },
    {
     "data": {
      "image/png": "[encoded data removed]",
      "text/plain": [
       "<matplotlib.figure.Figure at 0x12f082b0780>"
      ]
     },
     "metadata": {},
     "output_type": "display_data"
    },
    {
     "name": "stdout",
     "output_type": "stream",
     "text": [
      "(500, 2)\n"
     ]
    },
    {
     "data": {
      "image/png": "[encoded data removed]",
      "text/plain": [
       "<matplotlib.figure.Figure at 0x12f1627c048>"
      ]
     },
     "metadata": {},
     "output_type": "display_data"
    }
   ],
   "source": [
    "### test the data\n",
    "print(minMax)\n",
    "for _ in range(5):\n",
    "    i = np.random.randint(tracks_lj_ve.shape[0])\n",
    "    print(tracks_lj_ve[0].shape)\n",
    "    \n",
    "    plt.scatter(tracks_lj_ve[i][:,0], tracks_lj_ve[i][:,1], color='blue')\n",
    "    #plt.scatter(tracks[i,:,0], tracks_out[i,:,1], color='red')\n",
    "    plt.show()"
   ]
  },
  {
   "cell_type": "code",
   "execution_count": 41,
   "metadata": {},
   "outputs": [
    {
     "name": "stdout",
     "output_type": "stream",
     "text": [
      "[[ 0.  0.]\n",
      " [ 1.  1.]]\n",
      "[[ 0.  0.]\n",
      " [ 1.  1.]]\n"
     ]
    }
   ],
   "source": [
    "NORMALIZED_FILE = \"normalized_tracks\"\n",
    "NORMALIZED_FILE_LJ_VE = \"normalized_tracks_lj_ve\"\n",
    "\n",
    "### loads tracks if needed\n",
    "#tracks = np.load(DATA_DIR + TRACK_FILE)\n",
    "\n",
    "### get the min and max values of all the tracks\n",
    "minMax = getMinMaxValues(tracks)\n",
    "minMax_lj_ve = getMinMaxValues(tracks_lj_ve)\n",
    "\n",
    "### normalize the data\n",
    "normalized_tracks = normalize(tracks, minMax)\n",
    "normalized_tracks_lj_ve = normalize(tracks_lj_ve, minMax_lj_ve)\n",
    "\n",
    "### test normalization\n",
    "print(getMinMaxValues(normalized_tracks))\n",
    "print(getMinMaxValues(normalized_tracks_lj_ve))\n",
    "\n",
    "### save normalized data\n",
    "np.save(DATA_DIR + NORMALIZED_FILE, normalized_tracks)\n",
    "np.save(DATA_DIR + NORMALIZED_FILE_LJ_VE, normalized_tracks_lj_ve)"
   ]
  },
  {
   "cell_type": "code",
   "execution_count": null,
   "metadata": {
    "collapsed": true
   },
   "outputs": [],
   "source": []
  }
 ],
 "metadata": {
  "kernelspec": {
   "display_name": "Python 3",
   "language": "python",
   "name": "python3"
  },
  "language_info": {
   "codemirror_mode": {
    "name": "ipython",
    "version": 3
   },
   "file_extension": ".py",
   "mimetype": "text/x-python",
   "name": "python",
   "nbconvert_exporter": "python",
   "pygments_lexer": "ipython3",
   "version": "3.5.3"
  }
 },
 "nbformat": 4,
 "nbformat_minor": 2
}
