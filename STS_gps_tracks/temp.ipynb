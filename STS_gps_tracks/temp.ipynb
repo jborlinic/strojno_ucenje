{
 "cells": [
  {
   "cell_type": "code",
   "execution_count": 19,
   "metadata": {},
   "outputs": [],
   "source": [
    "import numpy as np\n",
    "\n",
    "TRACK_FILE = \"snapped_tracks\"\n",
    "DATA_DIR = \"../.datasets/gps_tracks/resampled/\"\n",
    "\n",
    "tracks = np.load(DATA_DIR + TRACK_FILE + \".npy\")"
   ]
  },
  {
   "cell_type": "code",
   "execution_count": 27,
   "metadata": {},
   "outputs": [
    {
     "name": "stdout",
     "output_type": "stream",
     "text": [
      "mean: \t 0.136981580141 \n",
      "median:\t 0.00350294286986 \n",
      "max:\t 92786.4382177 \n",
      "min:\t 0.0\n"
     ]
    }
   ],
   "source": [
    "distances = []\n",
    "for track in tracks:\n",
    "    i = 1\n",
    "    t0 = track[0]\n",
    "    t1 = track[i]\n",
    "    while(i < track.shape[0]-1):\n",
    "        dist = np.sqrt(np.power(t0[0]-t1[0], 2) + np.power(t0[1]-t1[1], 2))\n",
    "        #print(dist)\n",
    "        i += 1\n",
    "        t0 = t1\n",
    "        t1 = track[i]\n",
    "        distances.append(dist)\n",
    "\n",
    "distances = np.array(distances)\n",
    "print(\"mean: \\t\", np.mean(distances), \n",
    "      \"\\nmedian:\\t\", np.median(distances), \n",
    "      \"\\nmax:\\t\",np.amax(distances), \n",
    "      \"\\nmin:\\t\", np.amin(distances))"
   ]
  },
  {
   "cell_type": "code",
   "execution_count": null,
   "metadata": {},
   "source": [
    "NEW_DISTANCE = 0.005\n",
    "def resample_track(track):\n",
    "    print(track.shape)\n",
    "    new_track = []\n",
    "    \n",
    "    i = 1\n",
    "    \n",
    "    t0 = track[0]\n",
    "    t1 = track[i]\n",
    "    \n",
    "    new_track.append(t0)\n",
    "    \n",
    "    while(i < track.shape[0]-1):\n",
    "        print(i, t0, t1)\n",
    "        dist = np.sqrt(np.power(t0[0]-t1[0], 2) + np.power(t0[1]-t1[1], 2))\n",
    "        \n",
    "        if dist == NEW_DISTANCE:\n",
    "            i += 1\n",
    "            new_track.append(t1)\n",
    "            t0 = t1\n",
    "            t1 = track[i]\n",
    "\n",
    "        elif dist > NEW_DISTANCE:\n",
    "            k = (t1[1] - t0[1])/(t1[0] - t0[0])\n",
    "            n = t0[1] - k * t0[0]\n",
    "            t0[0] = t0[0] + NEW_DISTANCE\n",
    "            t0[1] = t0[0] * k + n\n",
    "            new_track.append(t0)\n",
    "            \n",
    "        else:\n",
    "            i += 1\n",
    "            t0 = t1\n",
    "            t1 = track[i]\n",
    "    \n",
    "    return np.array(new_track)\n",
    "print(tracks[1][:10])\n",
    "new_track = resample_track(tracks[1][:10])    \n",
    "print(new_track)"
   ]
  }
 ],
 "metadata": {
  "kernelspec": {
   "display_name": "Python 3",
   "language": "python",
   "name": "python3"
  },
  "language_info": {
   "codemirror_mode": {
    "name": "ipython",
    "version": 3
   },
   "file_extension": ".py",
   "mimetype": "text/x-python",
   "name": "python",
   "nbconvert_exporter": "python",
   "pygments_lexer": "ipython3",
   "version": "3.5.3"
  }
 },
 "nbformat": 4,
 "nbformat_minor": 2
}
