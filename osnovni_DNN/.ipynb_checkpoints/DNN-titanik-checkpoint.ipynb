{
 "cells": [
  {
   "cell_type": "markdown",
   "metadata": {
    "collapsed": true
   },
   "source": [
    "## Preživetje na Titaniku\n",
    "Spletna stran [Kaggle](www.kaggle.com) je spletna platforma namenjena tekmovanjem v analatiki in prediktivnem modeliranju. Je zelo uporabno spletno mesto za pridobivanje izkušenj in učenje strojnega učenja. Kaggle ima zelo prijazno skupnost, ki je vedno pripravljena pomagati in ponuja tudi ogromno različnih naborov podatkov za vse osnovne modele strojnega učenja.  \n",
    "Eden izmed začetnih naborov podatkov je seznam potnikov Titanika. Ta se uporablja za modeliranje preživetja posameznikov na ladji. Na podlagi osnovnih lastnosti, starost, spol, št. karte in lokacija vkrcanja (ki kažeta na družben razred posameznika) ipd. želimo napovedati ali bo posameznik preživel potopitev Titanika ali ne.  \n",
    "\n",
    "V tem osnovnem primeru bom izdelal preprosto nevronsko mrežo, sestavljano iz petih polno-povezanih slojev in enega osipnega sloja, ki ima po 15 minutah treniranja na podatkih ~77% natančnost na validacijskem naboru."
   ]
  },
  {
   "cell_type": "markdown",
   "metadata": {},
   "source": [
    "### Uvoz knjižnic, ki jih potrebujemo\n",
    "**pandas** - nam olajša delo s pripravo podatkov, npr. vsavljanje manjkajočih vrednosti, vektorizacijo določenih diskretnih lastnosti (spol (m,ž) -> (0,1)) ipd.  \n",
    "**numpy** - osnovna knjižnica za delo s števili, vektorji, nizi, ipd.  \n",
    "**os** - knjižnica za delo s operacijskim sistemom, uporabimo jo le za ustvrajanje direktorjiev za shranjevanje modela  \n",
    "**keras** - visoko nivojski API za strojno učenje, v ozadju lahko uporablja theano ali tensorflow. Kot del knjižnice keras uvozimo tudi posamezne plasti (Dense, Dropout), tip modela (Sequential), funkcijo za nalaganje modela (model_from_json) in orodje TensorBoard, ki nam omogoča vizualizacijo in nadzor nad učenjem"
   ]
  },
  {
   "cell_type": "code",
   "execution_count": 1,
   "metadata": {
    "collapsed": false
   },
   "outputs": [],
   "source": [
    "import pandas as pd\n",
    "import numpy as np\n",
    "import os\n",
    "\n",
    "import keras\n",
    "from keras.layers import Dense, Dropout\n",
    "from keras.models import Sequential\n",
    "from keras.callbacks import TensorBoard\n",
    "from keras.models import model_from_json"
   ]
  },
  {
   "cell_type": "markdown",
   "metadata": {},
   "source": [
    "### Predprocesiranje podatkov\n",
    "V prvem delu kode definiramo funkcije:  \n",
    "- parse_data: dopolni manjkajoče podatke v naboru in spremeni diskretne podatke v njihovo vektorsko reprezentacija.\n",
    "- split_data: razdeli nabor podatkov v učni in validacijski nabor, za razmerje uporabi pridobljeno vrednost (prevzeto je razmerje: učni nabor (70%) : validacijski nabor (30%)\n",
    "- to_one_hot: funkcija pretvori označbe (y) iz oblike (št. vrstic, 1) v (št. vrstic, 2) kjer je prvotni razred vrstice (0 ali 1) zapisan z \"one_hot\" vektorjem, to je ničelni vektor velikosti št. razredov, ki ima samo eno vrednost enako 1, tisto, katere indeks (ključ) je enak razredu v katerega spada.  Primer: [2] -> [0 0 1]"
   ]
  },
  {
   "cell_type": "code",
   "execution_count": 2,
   "metadata": {
    "collapsed": false
   },
   "outputs": [],
   "source": [
    "def parse_data(raw_data, training):\n",
    "    \"\"\"\n",
    "\n",
    "    Argumenta funkcije:\n",
    "    raw_data ... podatkovna struktura, ki vsebuje (vsaj) stolpce: Age, Embarked, Fare, in Sex, \n",
    "                 če je učni nabor podatkov, mora vsebovati tudi stolpec Survived\n",
    "    training ... True ali False. True, če je raw_data je učni nabor podatkov, sicer False.\n",
    "\n",
    "    \"\"\"\n",
    "    d = raw_data\n",
    "    d['Age'] = d['Age'].fillna(d['Age'] .median())\n",
    "    d['Embarked'] = d['Embarked'].fillna('S')\n",
    "    d['Fare'] = d['Fare'].fillna(d['Fare'].median())\n",
    "\n",
    "    d.loc[d['Sex'] == 'male', 'Sex'] = 0\n",
    "    d.loc[d['Sex'] == 'female', 'Sex'] = 1\n",
    "\n",
    "    d.loc[d['Embarked'] == 'S', 'Embarked'] = 0\n",
    "    d.loc[d['Embarked'] == 'C', 'Embarked'] = 1\n",
    "    d.loc[d['Embarked'] == 'Q', 'Embarked'] = 2\n",
    "\n",
    "    x = np.array(d.loc[:,['Pclass','Sex','Age','SibSp','Parch','Fare','Embarked']],\n",
    "                    dtype=float)\n",
    "\n",
    "    if training:\n",
    "        labels = np.array(d.loc[:,['Survived']], dtype=int)\n",
    "        return x, labels.flatten()\n",
    "\n",
    "    return x"
   ]
  },
  {
   "cell_type": "code",
   "execution_count": 4,
   "metadata": {
    "collapsed": false
   },
   "outputs": [],
   "source": [
    "def split_data(input_data, labels, val_per=0.3):\n",
    "    \"\"\"\n",
    "    Argumenti funkcije:\n",
    "    input_data ... vhodni podatki, ki predstavljajo tudi vhodne podatke za model.\n",
    "    labels ... oznake, ki predstavljajo izhodne podatke modela, resnične vrednosti.\n",
    "    val_per ... float iz intervala [0,1], ki predstavlja delež validacijskega dela nabora podatkov.\n",
    "\n",
    "    \"\"\"\n",
    "    if val_per < 0 or val_per > 1:\n",
    "        print('The argument validation percentage \"val_per\" must be a float from the interval (0,1).')\n",
    "    else:\n",
    "        split_index = int(len(input_data) * (1 - val_per))\n",
    "                          \n",
    "        x_train = input_data[: split_index]\n",
    "        y_train = labels[: split_index]\n",
    "        x_val = input_data[split_index :]\n",
    "        y_val = labels[split_index :]\n",
    "        return (x_train, y_train), (x_val, y_val)"
   ]
  },
  {
   "cell_type": "code",
   "execution_count": 6,
   "metadata": {
    "collapsed": false
   },
   "outputs": [],
   "source": [
    "def to_one_hot(data):\n",
    "    \"\"\"\n",
    "    Preoblikuje vektor oblike (št. vrstic, 1) z vrednostmi 0 in 1, ki predstavljajo razred vrstice. V \n",
    "    vektor oblike (št. vrstic, 2), kjer vsaka vrstica predstavlja \"one_hot\" vektor.\n",
    "    Primer:\n",
    "    [0,   ->   [[1, 0],\n",
    "    1]          [0, 1]]\n",
    "    \"\"\"\n",
    "    temp = np.zeros((len(data), 2))\n",
    "    \n",
    "    temp[np.arange(len(data)), data] = 1\n",
    "    \n",
    "    return temp"
   ]
  },
  {
   "cell_type": "markdown",
   "metadata": {},
   "source": [
    "Preberemo podatke iz datoteke (../datasets/titanic/train.csv).  \n",
    "Uporabimo zgoraj napisane funkcije in podatke pripravimo za nadaljnje delo.  \n",
    "Preverimo oblike pridobljenih vektorjev, ki jih bomo uporabili pri učenju modela."
   ]
  },
  {
   "cell_type": "code",
   "execution_count": 7,
   "metadata": {
    "collapsed": false
   },
   "outputs": [
    {
     "name": "stdout",
     "output_type": "stream",
     "text": [
      "(623, 7) (623, 2) (268, 7) (268, 2)\n"
     ]
    }
   ],
   "source": [
    "data_dir = '../.datasets/titanic/'\n",
    "\n",
    "data = pd.read_csv('%strain.csv' %data_dir)\n",
    "x, y = parse_data(data, True)\n",
    "\n",
    "(x_train, y_train), (x_val, y_val) = split_data(x, y)\n",
    "\n",
    "y_train = to_one_hot(y_train)\n",
    "y_val = to_one_hot(y_val)\n",
    "\n",
    "print(x_train.shape, y_train.shape, x_val.shape, y_val.shape)"
   ]
  },
  {
   "cell_type": "markdown",
   "metadata": {},
   "source": [
    "### Definicija modela\n",
    "S pomočjo knjižnice Keras definirajmo model, ki ga želimo uporabiti za napovedovanje preživelih potnikov Titanika.  \n",
    "Uporabimo Sequential, kot tip modela. To pomeni, da se bo celoten model izvajal linearno po vrsti, na osnovi \n",
    "zaporedja dodanih slojev.  \n",
    "V našem primeru želimo naslednje zaporedje:\n",
    "- polno-povezan sloj s 50 nevroni, z aktivacijsko funkcijo identiteta\n",
    "- polno-povezan sloj s 300 nevroni in aktivacijsko funkcijo sigmoid\n",
    "- polno-povezan sloj s 300 nevroni in aktivacijsko funkcijo softmax\n",
    "- osipni sloj, z verjetnostjo p = 0.8, da bo neuron upoštevan\n",
    "- polno-povezan sloj s 10 nevroni in aktivacijsko funkcijo sigmoid\n",
    "- polno-povezan sloj s 2 nevroni in aktivacijsko funkcijo softmax\n",
    "\n",
    "Model kot vhodni podatek prejme vektor x_train oblike (Št. vrstic, 7).  \n",
    "Kot primerijalni podatek pa y_train oblike (Št. vrstic, 2).\n"
   ]
  },
  {
   "cell_type": "code",
   "execution_count": 9,
   "metadata": {
    "collapsed": false
   },
   "outputs": [
    {
     "name": "stderr",
     "output_type": "stream",
     "text": [
      "Using TensorFlow backend.\n"
     ]
    }
   ],
   "source": [
    "model = Sequential()\n",
    "\n",
    "model.add(Dense(50, input_shape=(7,)))\n",
    "model.add(Dense(300, activation='sigmoid'))\n",
    "model.add(Dense(300, activation='softmax'))\n",
    "model.add(Dropout(0.5))\n",
    "model.add(Dense(10, activation='sigmoid'))\n",
    "model.add(Dense(2, activation='softmax'))"
   ]
  },
  {
   "cell_type": "markdown",
   "metadata": {},
   "source": [
    "### Shranjevanje in nalaganje modela\n",
    "Spodaj definiramo še dve funkciji, load_model in save_model, ki poskrbita za nalaganje že naučenega modela iz nekega direktorija in za shranjevanje naučenega modela v nek direktorij. Seveda se funkciji ne izvedeta, če ni nič za naložit ali shranit."
   ]
  },
  {
   "cell_type": "code",
   "execution_count": 10,
   "metadata": {
    "collapsed": false
   },
   "outputs": [],
   "source": [
    "def load_model(model, model_dir='model/'):\n",
    "    try:\n",
    "        f = open(model_dir + 'model', 'r')\n",
    "        json_string = f.read()\n",
    "\n",
    "        model = model_from_json(json_string)\n",
    "        model.load_weights(model_dir + 'weights')\n",
    "        print('Model loaded!')\n",
    "        return model\n",
    "\n",
    "    except FileNotFoundError:\n",
    "        print('Could not load model!')\n",
    "        return model\n",
    "\n",
    "def save_model(model, model_dir='model/'):\n",
    "    json_string = model.to_json()\n",
    "    \n",
    "    if not os.path.exists(model_dir):\n",
    "        os.makedirs(model_dir)\n",
    "    \n",
    "    f = open(model_dir + 'model', 'w+')\n",
    "    f.write(json_string)\n",
    "    f.close()\n",
    "\n",
    "    model.save_weights(model_dir + 'weights')\n",
    "    print(\"Model saved!\")"
   ]
  },
  {
   "cell_type": "markdown",
   "metadata": {},
   "source": [
    "### Učenje modela\n",
    "Spodaj model pripravimo t.p., da s pomočjo funkcijo compile nastavimo:\n",
    "- kriterijsko funkcijo, v tem primeru [categorical_crossentropy](https://keras.io/losses/#categorical_crossentropy),  \n",
    "- optimizator, v tem primeru [Adam](https://keras.io/optimizers/#adam),  \n",
    "- metriko za nadzorovanje učenja, v tem primeru natančnost.\n",
    "\n",
    "Nato uporabimo funkcijo fit, da začnemo s učenjem modela. Ta funkcija prejme kot argumente:\n",
    "- nabor učnih podatkov x_train,\n",
    "- vektor oznak učnih podatkov y_train,\n",
    "- velikost posamezne serije,\n",
    "- število epik (epochs=20000),\n",
    "- natančnost sprotnega izpisa (verbose=0),\n",
    "- validacijski nabor podatkov (x_val, y_val),\n",
    "- množico klicev (callbacks), v tem primeru le Tensorboard, ki je orodje specifično za Tensorflow in odlično za spremljanje učenja. (Za uporabo v konzolo vnesi ukaz: _Tensorboard --logdir 'log'_)"
   ]
  },
  {
   "cell_type": "code",
   "execution_count": 11,
   "metadata": {
    "collapsed": false
   },
   "outputs": [
    {
     "name": "stdout",
     "output_type": "stream",
     "text": [
      "Model loaded!\n",
      "INFO:tensorflow:Summary name dense_1_1/kernel:0 is illegal; using dense_1_1/kernel_0 instead.\n",
      "INFO:tensorflow:Summary name dense_1_1/bias:0 is illegal; using dense_1_1/bias_0 instead.\n",
      "INFO:tensorflow:Summary name dense_2_1/kernel:0 is illegal; using dense_2_1/kernel_0 instead.\n",
      "INFO:tensorflow:Summary name dense_2_1/bias:0 is illegal; using dense_2_1/bias_0 instead.\n",
      "INFO:tensorflow:Summary name dense_3_1/kernel:0 is illegal; using dense_3_1/kernel_0 instead.\n",
      "INFO:tensorflow:Summary name dense_3_1/bias:0 is illegal; using dense_3_1/bias_0 instead.\n",
      "INFO:tensorflow:Summary name dense_4_1/kernel:0 is illegal; using dense_4_1/kernel_0 instead.\n",
      "INFO:tensorflow:Summary name dense_4_1/bias:0 is illegal; using dense_4_1/bias_0 instead.\n",
      "INFO:tensorflow:Summary name dense_5_1/kernel:0 is illegal; using dense_5_1/kernel_0 instead.\n",
      "INFO:tensorflow:Summary name dense_5_1/bias:0 is illegal; using dense_5_1/bias_0 instead.\n",
      "Model saved!\n"
     ]
    }
   ],
   "source": [
    "model = load_model(model)\n",
    "\n",
    "model.compile(loss=\"categorical_crossentropy\",\n",
    "              optimizer=\"Adam\",\n",
    "              metrics=['accuracy'])\n",
    "\n",
    "model.fit(x_train,\n",
    "          y_train, \n",
    "          batch_size=128,\n",
    "          epochs=20000,\n",
    "          verbose=0,\n",
    "          validation_data=(x_val, y_val),\n",
    "          callbacks=[TensorBoard(log_dir='log/',\n",
    "                                 histogram_freq=10, \n",
    "                                 write_graph=True)]\n",
    "         )\n",
    "\n",
    "save_model(model)"
   ]
  },
  {
   "cell_type": "markdown",
   "metadata": {},
   "source": [
    "### Evalvacija modela in napoved na testnem naboru podatkov\n",
    "Ko imamo model naučen lahko s pomočjo funkcije evaluate model ocenimo na poljubnem naboru podatkov. \n",
    "V spodnjem primeru je to kar validacijski nabor. Imamo le dve metriki, izgubo ali vrednost kriterijske funkcije in \n",
    "natančnost.\n",
    "\n",
    "Ker so ti podatki tudi del osnovnega tekmovanja na spletni platformni [Kaggle](https://www.kaggle.com/c/titanic), \n",
    "lahko s pomočjo našega modela izračunamo napoved za testni nabor podatkov. Koda za to, je tudi v zadnjem \n",
    "podoknu te beležnice. Pridobljena napoved se shrani v datoteko _predictions.csv_ v osnovni direktorij.  \n",
    "Ta napoved je v mojem testiranju dosegla 72% natančnost. To bi se dalo izboljšati z daljšim treniranjem, \n",
    "popravki v modelu, ipd. odvisna je tudi od osipnega sloja, ki je odvisen od naključnega generiranja števil."
   ]
  },
  {
   "cell_type": "code",
   "execution_count": 39,
   "metadata": {
    "collapsed": false
   },
   "outputs": [
    {
     "name": "stdout",
     "output_type": "stream",
     "text": [
      "\r",
      " 32/268 [==>...........................] - ETA: 0s"
     ]
    },
    {
     "data": {
      "text/plain": [
       "[1.1819829647220783, 0.76119403074036784]"
      ]
     },
     "execution_count": 39,
     "metadata": {},
     "output_type": "execute_result"
    }
   ],
   "source": [
    "model.evaluate(x_val, y_val)"
   ]
  },
  {
   "cell_type": "code",
   "execution_count": 40,
   "metadata": {
    "collapsed": false
   },
   "outputs": [
    {
     "name": "stdout",
     "output_type": "stream",
     "text": [
      "(418, 11)\n",
      "(418, 7)\n",
      "(418,)\n"
     ]
    }
   ],
   "source": [
    "data_dir = '../datasets/titanic/'\n",
    "data = pd.read_csv('%stest.csv' %data_dir)\n",
    "print(data.shape)\n",
    "x_test = parse_data(data, False)\n",
    "print(x_test.shape)\n",
    "predictions = np.argmax(model.predict(x_test), axis=1)\n",
    "print(predictions.shape)\n",
    "output = np.dstack((np.arange(892, predictions.size + 892),predictions))[0]\n",
    "\n",
    "output = output.astype('int32')\n",
    "\n",
    "np.savetxt('predictions.csv', \n",
    "           output,\n",
    "           fmt='%d',\n",
    "           header='PassengerId,Survived', \n",
    "           delimiter=',', \n",
    "           comments=\"\")\n"
   ]
  }
 ],
 "metadata": {
  "anaconda-cloud": {},
  "kernelspec": {
   "display_name": "Python [conda env:jupyter-tf]",
   "language": "python",
   "name": "conda-env-jupyter-tf-py"
  },
  "language_info": {
   "codemirror_mode": {
    "name": "ipython",
    "version": 3
   },
   "file_extension": ".py",
   "mimetype": "text/x-python",
   "name": "python",
   "nbconvert_exporter": "python",
   "pygments_lexer": "ipython3",
   "version": "3.5.2"
  }
 },
 "nbformat": 4,
 "nbformat_minor": 1
}
