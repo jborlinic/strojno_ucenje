{
 "cells": [
  {
   "cell_type": "code",
   "execution_count": 18,
   "metadata": {
    "collapsed": false
   },
   "outputs": [],
   "source": [
    "import numpy as np\n",
    "import matplotlib.pyplot as plt"
   ]
  },
  {
   "cell_type": "code",
   "execution_count": 44,
   "metadata": {
    "collapsed": false
   },
   "outputs": [
    {
     "name": "stdout",
     "output_type": "stream",
     "text": [
      "[[  1.31592202e+09   5.83000000e+00   3.00000000e+00]\n",
      " [  1.31592203e+09   5.90000000e+00   1.00000000e+00]\n",
      " [  1.31592203e+09   6.00000000e+00   2.00000000e+01]\n",
      " ..., \n",
      " [  1.49070537e+09   1.06667000e+03   2.50000000e-02]\n",
      " [  1.49070537e+09   1.06667000e+03   4.45000000e+00]\n",
      " [  1.49070537e+09   1.06667000e+03   3.69761330e-01]]\n"
     ]
    }
   ],
   "source": [
    "data = np.load('../data/data.npy')\n",
    "print(data)"
   ]
  },
  {
   "cell_type": "code",
   "execution_count": 45,
   "metadata": {
    "collapsed": false
   },
   "outputs": [],
   "source": [
    "d1 = data[:,1]\n",
    "d2 = np.delete(np.insert(d1, 0, 0, 0), -1)\n",
    "\n",
    "dataT = np.insert(data, 2, d1 - d2, axis=1)"
   ]
  },
  {
   "cell_type": "code",
   "execution_count": 53,
   "metadata": {
    "collapsed": false
   },
   "outputs": [
    {
     "data": {
      "image/png": "[encoded data removed]",
      "text/plain": [
       "<matplotlib.figure.Figure at 0x7f6e381a2400>"
      ]
     },
     "metadata": {},
     "output_type": "display_data"
    }
   ],
   "source": [
    "plt.plot(dataT[:,2])\n",
    "plt.show()"
   ]
  },
  {
   "cell_type": "code",
   "execution_count": 54,
   "metadata": {
    "collapsed": false
   },
   "outputs": [],
   "source": [
    "np.save('../data/dataT', dataT)"
   ]
  },
  {
   "cell_type": "code",
   "execution_count": 48,
   "metadata": {
    "collapsed": false
   },
   "outputs": [
    {
     "name": "stdout",
     "output_type": "stream",
     "text": [
      "9453774\n",
      "10904599\n"
     ]
    }
   ],
   "source": [
    "index = np.argmax(dataT[:,2])\n",
    "print(index)\n",
    "print(len(dataT))"
   ]
  },
  {
   "cell_type": "code",
   "execution_count": 50,
   "metadata": {
    "collapsed": false
   },
   "outputs": [
    {
     "name": "stdout",
     "output_type": "stream",
     "text": [
      "10904598\n"
     ]
    }
   ],
   "source": [
    "dataT = np.delete(dataT, index, axis=0)\n",
    "print(len(dataT))"
   ]
  },
  {
   "cell_type": "code",
   "execution_count": 52,
   "metadata": {
    "collapsed": false
   },
   "outputs": [
    {
     "name": "stdout",
     "output_type": "stream",
     "text": [
      "9453773\n",
      "10904598\n",
      "10904597\n"
     ]
    }
   ],
   "source": [
    "index = np.argmin(dataT[:,2])\n",
    "print(index)\n",
    "print(len(dataT))\n",
    "\n",
    "dataT = np.delete(dataT, index, axis=0)\n",
    "\n",
    "print(len(dataT))\n"
   ]
  },
  {
   "cell_type": "code",
   "execution_count": 56,
   "metadata": {
    "collapsed": false
   },
   "outputs": [
    {
     "name": "stdout",
     "output_type": "stream",
     "text": [
      "[[  1.31592202e+09   5.83000000e+00   5.83000000e+00   3.00000000e+00]\n",
      " [  1.31592203e+09   5.90000000e+00   7.00000000e-02   1.00000000e+00]\n",
      " [  1.31592203e+09   6.00000000e+00   1.00000000e-01   2.00000000e+01]\n",
      " ..., \n",
      " [  1.49070537e+09   1.06667000e+03  -4.80000000e-01   2.50000000e-02]\n",
      " [  1.49070537e+09   1.06667000e+03   0.00000000e+00   4.45000000e+00]\n",
      " [  1.49070537e+09   1.06667000e+03   0.00000000e+00   3.69761330e-01]]\n"
     ]
    }
   ],
   "source": [
    "data = np.load('../data/dataT.npy')\n",
    "print(data)"
   ]
  },
  {
   "cell_type": "code",
   "execution_count": 58,
   "metadata": {
    "collapsed": false
   },
   "outputs": [
    {
     "ename": "IndexError",
     "evalue": "index 3 is out of bounds for axis 1 with size 3",
     "output_type": "error",
     "traceback": [
      "\u001b[0;31m---------------------------------------------------------------------------\u001b[0m",
      "\u001b[0;31mIndexError\u001b[0m                                Traceback (most recent call last)",
      "\u001b[0;32m<ipython-input-58-51896bd29beb>\u001b[0m in \u001b[0;36m<module>\u001b[0;34m()\u001b[0m\n\u001b[0;32m----> 1\u001b[0;31m \u001b[0mdata\u001b[0m \u001b[0;34m=\u001b[0m \u001b[0mdata\u001b[0m\u001b[0;34m[\u001b[0m\u001b[0;34m:\u001b[0m\u001b[0;34m,\u001b[0m\u001b[0;34m[\u001b[0m\u001b[0;36m0\u001b[0m\u001b[0;34m,\u001b[0m\u001b[0;36m1\u001b[0m\u001b[0;34m,\u001b[0m\u001b[0;36m3\u001b[0m\u001b[0;34m]\u001b[0m\u001b[0;34m]\u001b[0m\u001b[0;34m\u001b[0m\u001b[0m\n\u001b[0m\u001b[1;32m      2\u001b[0m \u001b[0;34m\u001b[0m\u001b[0m\n\u001b[1;32m      3\u001b[0m \u001b[0md1\u001b[0m \u001b[0;34m=\u001b[0m \u001b[0mdata\u001b[0m\u001b[0;34m[\u001b[0m\u001b[0;34m:\u001b[0m\u001b[0;34m,\u001b[0m\u001b[0;36m1\u001b[0m\u001b[0;34m]\u001b[0m\u001b[0;34m\u001b[0m\u001b[0m\n\u001b[1;32m      4\u001b[0m \u001b[0md2\u001b[0m \u001b[0;34m=\u001b[0m \u001b[0mnp\u001b[0m\u001b[0;34m.\u001b[0m\u001b[0mdelete\u001b[0m\u001b[0;34m(\u001b[0m\u001b[0mnp\u001b[0m\u001b[0;34m.\u001b[0m\u001b[0mappend\u001b[0m\u001b[0;34m(\u001b[0m\u001b[0md1\u001b[0m\u001b[0;34m,\u001b[0m \u001b[0;36m0\u001b[0m\u001b[0;34m)\u001b[0m\u001b[0;34m,\u001b[0m \u001b[0;36m0\u001b[0m\u001b[0;34m)\u001b[0m\u001b[0;34m\u001b[0m\u001b[0m\n\u001b[1;32m      5\u001b[0m \u001b[0;34m\u001b[0m\u001b[0m\n",
      "\u001b[0;31mIndexError\u001b[0m: index 3 is out of bounds for axis 1 with size 3"
     ]
    }
   ],
   "source": [
    "data = data[:,[0,1,3]]\n"
   ]
  },
  {
   "cell_type": "code",
   "execution_count": 62,
   "metadata": {
    "collapsed": true
   },
   "outputs": [],
   "source": [
    "d1 = data[:,1]\n",
    "d2 = np.delete(np.append(d1, 0), 0)\n",
    "\n",
    "dataT = np.insert(data, 3, d2 - d1, axis=1)"
   ]
  },
  {
   "cell_type": "code",
   "execution_count": 64,
   "metadata": {
    "collapsed": false
   },
   "outputs": [
    {
     "name": "stdout",
     "output_type": "stream",
     "text": [
      "[[  1.31592202e+09   5.83000000e+00   3.00000000e+00   7.00000000e-02]\n",
      " [  1.31592203e+09   5.90000000e+00   1.00000000e+00   1.00000000e-01]\n",
      " [  1.31592203e+09   6.00000000e+00   2.00000000e+01  -5.00000000e-02]\n",
      " ..., \n",
      " [  1.49070537e+09   1.06667000e+03   2.50000000e-02   0.00000000e+00]\n",
      " [  1.49070537e+09   1.06667000e+03   4.45000000e+00   0.00000000e+00]\n",
      " [  1.49070537e+09   1.06667000e+03   3.69761330e-01  -1.06667000e+03]]\n"
     ]
    }
   ],
   "source": [
    "print(dataT)\n",
    "np.save('../data/dataT', dataT)"
   ]
  }
 ],
 "metadata": {
  "anaconda-cloud": {},
  "kernelspec": {
   "display_name": "Python [conda env:jupyter-tf]",
   "language": "python",
   "name": "conda-env-jupyter-tf-py"
  },
  "language_info": {
   "codemirror_mode": {
    "name": "ipython",
    "version": 3
   },
   "file_extension": ".py",
   "mimetype": "text/x-python",
   "name": "python",
   "nbconvert_exporter": "python",
   "pygments_lexer": "ipython3",
   "version": "3.5.2"
  }
 },
 "nbformat": 4,
 "nbformat_minor": 1
}
